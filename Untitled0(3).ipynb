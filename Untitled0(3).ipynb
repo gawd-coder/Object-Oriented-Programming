{
  "nbformat": 4,
  "nbformat_minor": 0,
  "metadata": {
    "colab": {
      "name": "Untitled0.ipynb",
      "provenance": [],
      "collapsed_sections": []
    },
    "kernelspec": {
      "name": "python3",
      "display_name": "Python 3"
    }
  },
  "cells": [
    {
      "cell_type": "markdown",
      "metadata": {
        "id": "HbBKIiyQNRgC",
        "colab_type": "text"
      },
      "source": [
        "A simple class implementing the example of a\n",
        "human being might look as follows:"
      ]
    },
    {
      "cell_type": "code",
      "metadata": {
        "id": "uD7BCV20NS0W",
        "colab_type": "code",
        "colab": {}
      },
      "source": [
        "class HumanBeing(object):\n",
        "    #Self refers to the current instance of the class.\n",
        "    def __init__(self, first_name, eye_color):\n",
        "        self.first_name = first_name\n",
        "        self.eye_color = eye_color\n",
        "        self.position = 0\n",
        "    def walk_steps(self, steps):\n",
        "        self.position += steps"
      ],
      "execution_count": 86,
      "outputs": []
    },
    {
      "cell_type": "code",
      "metadata": {
        "id": "UKRDo-gWNrUn",
        "colab_type": "code",
        "colab": {
          "base_uri": "https://localhost:8080/",
          "height": 35
        },
        "outputId": "e9dc7df4-5cc7-4c0d-bae6-8f245d45b51a"
      },
      "source": [
        "#Based on the class definition, a new Python object can be instantiated and used:\n",
        "Sandra = HumanBeing('Sandra', 'Blue')\n",
        "Sandra.first_name"
      ],
      "execution_count": 87,
      "outputs": [
        {
          "output_type": "execute_result",
          "data": {
            "application/vnd.google.colaboratory.intrinsic+json": {
              "type": "string"
            },
            "text/plain": [
              "'Sandra'"
            ]
          },
          "metadata": {
            "tags": []
          },
          "execution_count": 87
        }
      ]
    },
    {
      "cell_type": "code",
      "metadata": {
        "id": "T31IjRqdOFNv",
        "colab_type": "code",
        "colab": {
          "base_uri": "https://localhost:8080/",
          "height": 34
        },
        "outputId": "a44d6f11-0dbb-4626-ea99-53f69c09741b"
      },
      "source": [
        "Sandra.position"
      ],
      "execution_count": 88,
      "outputs": [
        {
          "output_type": "execute_result",
          "data": {
            "text/plain": [
              "0"
            ]
          },
          "metadata": {
            "tags": []
          },
          "execution_count": 88
        }
      ]
    },
    {
      "cell_type": "code",
      "metadata": {
        "id": "geEA6ZJAOMe1",
        "colab_type": "code",
        "colab": {}
      },
      "source": [
        "Sandra.walk_steps(5)"
      ],
      "execution_count": 89,
      "outputs": []
    },
    {
      "cell_type": "code",
      "metadata": {
        "id": "jUe9hlKyOOtq",
        "colab_type": "code",
        "colab": {
          "base_uri": "https://localhost:8080/",
          "height": 34
        },
        "outputId": "ccd9909f-c0f9-4805-c2e1-7194490d6348"
      },
      "source": [
        "Sandra.position"
      ],
      "execution_count": 90,
      "outputs": [
        {
          "output_type": "execute_result",
          "data": {
            "text/plain": [
              "5"
            ]
          },
          "metadata": {
            "tags": []
          },
          "execution_count": 90
        }
      ]
    },
    {
      "cell_type": "markdown",
      "metadata": {
        "id": "1BCroMaySsk9",
        "colab_type": "text"
      },
      "source": [
        "The context now is about building custom classes to model\n",
        "types of objects that cannot be easily, efficiently, or properly modeled by\n",
        "existing Python object types. Throughout, the example of a financial\n",
        "instrument is used."
      ]
    },
    {
      "cell_type": "code",
      "metadata": {
        "id": "H4a5OdynOSVx",
        "colab_type": "code",
        "colab": {}
      },
      "source": [
        "class FinancialInstrument(object):\n",
        "    #Some code; here simply the pass keyword.\n",
        "    pass"
      ],
      "execution_count": 91,
      "outputs": []
    },
    {
      "cell_type": "code",
      "metadata": {
        "id": "8VAWIdlXUC-w",
        "colab_type": "code",
        "colab": {}
      },
      "source": [
        "fi = FinancialInstrument()"
      ],
      "execution_count": 92,
      "outputs": []
    },
    {
      "cell_type": "code",
      "metadata": {
        "id": "sldILvq9UIqB",
        "colab_type": "code",
        "colab": {
          "base_uri": "https://localhost:8080/",
          "height": 34
        },
        "outputId": "ebebb7bd-e9dd-456a-fdf8-f2d4737ef623"
      },
      "source": [
        "type(fi)"
      ],
      "execution_count": 93,
      "outputs": [
        {
          "output_type": "execute_result",
          "data": {
            "text/plain": [
              "__main__.FinancialInstrument"
            ]
          },
          "metadata": {
            "tags": []
          },
          "execution_count": 93
        }
      ]
    },
    {
      "cell_type": "code",
      "metadata": {
        "id": "SyHIs0aHUKLc",
        "colab_type": "code",
        "colab": {
          "base_uri": "https://localhost:8080/",
          "height": 34
        },
        "outputId": "7bc8434f-31ca-4f96-98e2-ae0d9edefae9"
      },
      "source": [
        "fi"
      ],
      "execution_count": 94,
      "outputs": [
        {
          "output_type": "execute_result",
          "data": {
            "text/plain": [
              "<__main__.FinancialInstrument at 0x7f7d5c83a828>"
            ]
          },
          "metadata": {
            "tags": []
          },
          "execution_count": 94
        }
      ]
    },
    {
      "cell_type": "markdown",
      "metadata": {
        "id": "6FB_iZGlUqbX",
        "colab_type": "text"
      },
      "source": [
        "Every Python object comes with certain “special” attributes and\n",
        "methods (from object ); here, the special method to retrieve the string\n",
        "representation is called."
      ]
    },
    {
      "cell_type": "code",
      "metadata": {
        "id": "PuBwsJ7MUSYW",
        "colab_type": "code",
        "colab": {
          "base_uri": "https://localhost:8080/",
          "height": 35
        },
        "outputId": "7e11a3db-b1d9-4e14-87a4-9f3969eff79b"
      },
      "source": [
        "fi.__str__()"
      ],
      "execution_count": 95,
      "outputs": [
        {
          "output_type": "execute_result",
          "data": {
            "application/vnd.google.colaboratory.intrinsic+json": {
              "type": "string"
            },
            "text/plain": [
              "'<__main__.FinancialInstrument object at 0x7f7d5c83a828>'"
            ]
          },
          "metadata": {
            "tags": []
          },
          "execution_count": 95
        }
      ]
    },
    {
      "cell_type": "markdown",
      "metadata": {
        "id": "OpA5z_zuUvem",
        "colab_type": "text"
      },
      "source": [
        "So-called data attributes — in contrast to regular attributes — can be\n",
        "defined on the fly for every object."
      ]
    },
    {
      "cell_type": "code",
      "metadata": {
        "id": "C0kyXocqUZTz",
        "colab_type": "code",
        "colab": {}
      },
      "source": [
        "fi.price = 100"
      ],
      "execution_count": 96,
      "outputs": []
    },
    {
      "cell_type": "code",
      "metadata": {
        "id": "vyEgbTrWUy2t",
        "colab_type": "code",
        "colab": {
          "base_uri": "https://localhost:8080/",
          "height": 34
        },
        "outputId": "6e719683-44be-4297-c8e3-333fce174518"
      },
      "source": [
        "fi.price"
      ],
      "execution_count": 97,
      "outputs": [
        {
          "output_type": "execute_result",
          "data": {
            "text/plain": [
              "100"
            ]
          },
          "metadata": {
            "tags": []
          },
          "execution_count": 97
        }
      ]
    },
    {
      "cell_type": "markdown",
      "metadata": {
        "id": "cdOMnCgMVH5s",
        "colab_type": "text"
      },
      "source": [
        "An important special method is __init__ , which gets called during every\n",
        "instantiation of an object. It takes as parameters the object itself ( self , by\n",
        "convention) and potentially multiple others:"
      ]
    },
    {
      "cell_type": "code",
      "metadata": {
        "id": "cD_VCgN8Uz1n",
        "colab_type": "code",
        "colab": {}
      },
      "source": [
        "class FinancialInstrument(object):\n",
        "    author = 'Ammar'\n",
        "    def __init__(self, symbol, price):\n",
        "        self.symbol = symbol\n",
        "        self.price = price"
      ],
      "execution_count": 98,
      "outputs": []
    },
    {
      "cell_type": "code",
      "metadata": {
        "id": "Ybxg0FPWXOS3",
        "colab_type": "code",
        "colab": {
          "base_uri": "https://localhost:8080/",
          "height": 35
        },
        "outputId": "d25b55e0-5e15-454b-bb5b-67e5fa7b5b25"
      },
      "source": [
        "FinancialInstrument.author"
      ],
      "execution_count": 99,
      "outputs": [
        {
          "output_type": "execute_result",
          "data": {
            "application/vnd.google.colaboratory.intrinsic+json": {
              "type": "string"
            },
            "text/plain": [
              "'Ammar'"
            ]
          },
          "metadata": {
            "tags": []
          },
          "execution_count": 99
        }
      ]
    },
    {
      "cell_type": "code",
      "metadata": {
        "id": "BP1pFkyyXPn_",
        "colab_type": "code",
        "colab": {}
      },
      "source": [
        "aapl = FinancialInstrument('AAPL', 100)"
      ],
      "execution_count": 100,
      "outputs": []
    },
    {
      "cell_type": "code",
      "metadata": {
        "id": "naW7dsqOXWCR",
        "colab_type": "code",
        "colab": {
          "base_uri": "https://localhost:8080/",
          "height": 35
        },
        "outputId": "3801f5bc-6e59-419a-f816-51c8cb0213b8"
      },
      "source": [
        "#Accessing an instance attribute.\n",
        "aapl.symbol"
      ],
      "execution_count": 101,
      "outputs": [
        {
          "output_type": "execute_result",
          "data": {
            "application/vnd.google.colaboratory.intrinsic+json": {
              "type": "string"
            },
            "text/plain": [
              "'AAPL'"
            ]
          },
          "metadata": {
            "tags": []
          },
          "execution_count": 101
        }
      ]
    },
    {
      "cell_type": "code",
      "metadata": {
        "id": "mFLxqEsgXW_C",
        "colab_type": "code",
        "colab": {
          "base_uri": "https://localhost:8080/",
          "height": 35
        },
        "outputId": "1607988c-a922-413a-ff61-3989517665b0"
      },
      "source": [
        "#Accessing a class attribute.\n",
        "aapl.author"
      ],
      "execution_count": 102,
      "outputs": [
        {
          "output_type": "execute_result",
          "data": {
            "application/vnd.google.colaboratory.intrinsic+json": {
              "type": "string"
            },
            "text/plain": [
              "'Ammar'"
            ]
          },
          "metadata": {
            "tags": []
          },
          "execution_count": 102
        }
      ]
    },
    {
      "cell_type": "code",
      "metadata": {
        "id": "_DANLt3jXY-z",
        "colab_type": "code",
        "colab": {}
      },
      "source": [
        "aapl.price = 105"
      ],
      "execution_count": 103,
      "outputs": []
    },
    {
      "cell_type": "code",
      "metadata": {
        "id": "BEhUn8H_XaGT",
        "colab_type": "code",
        "colab": {
          "base_uri": "https://localhost:8080/",
          "height": 34
        },
        "outputId": "d99a01d8-223c-4abb-83a5-08bca0567db8"
      },
      "source": [
        "aapl.price"
      ],
      "execution_count": 104,
      "outputs": [
        {
          "output_type": "execute_result",
          "data": {
            "text/plain": [
              "105"
            ]
          },
          "metadata": {
            "tags": []
          },
          "execution_count": 104
        }
      ]
    },
    {
      "cell_type": "markdown",
      "metadata": {
        "id": "eeUQm8iEX27k",
        "colab_type": "text"
      },
      "source": [
        "To introduce ***encapsulation***\n",
        "to the class definition, two methods, get_price() and set_price() , might\n",
        "be defined. The code that follows additionally inherits from the previous\n",
        "class definition (and not from object anymore):"
      ]
    },
    {
      "cell_type": "code",
      "metadata": {
        "id": "ts_aN3khXcCT",
        "colab_type": "code",
        "colab": {}
      },
      "source": [
        "class FinancialInstrument(FinancialInstrument):\n",
        "    def get_price(self):\n",
        "        return self.price\n",
        "    def set_price(self, price):\n",
        "        self.price = price"
      ],
      "execution_count": 105,
      "outputs": []
    },
    {
      "cell_type": "code",
      "metadata": {
        "id": "f8EoX3CJYNjv",
        "colab_type": "code",
        "colab": {}
      },
      "source": [
        "fi = FinancialInstrument('AAPL', 100)"
      ],
      "execution_count": 106,
      "outputs": []
    },
    {
      "cell_type": "code",
      "metadata": {
        "id": "McombkhHYTaa",
        "colab_type": "code",
        "colab": {
          "base_uri": "https://localhost:8080/",
          "height": 34
        },
        "outputId": "a5a1c745-57c4-47c3-a99f-c46f02f1ebe1"
      },
      "source": [
        "fi.get_price()"
      ],
      "execution_count": 107,
      "outputs": [
        {
          "output_type": "execute_result",
          "data": {
            "text/plain": [
              "100"
            ]
          },
          "metadata": {
            "tags": []
          },
          "execution_count": 107
        }
      ]
    },
    {
      "cell_type": "code",
      "metadata": {
        "id": "3Z7Rx2XbYVwM",
        "colab_type": "code",
        "colab": {}
      },
      "source": [
        "fi.set_price(105)"
      ],
      "execution_count": 108,
      "outputs": []
    },
    {
      "cell_type": "code",
      "metadata": {
        "id": "tERf6mAoYXnL",
        "colab_type": "code",
        "colab": {
          "base_uri": "https://localhost:8080/",
          "height": 34
        },
        "outputId": "ddb094f0-b7ab-49b5-fc26-b1f57151c084"
      },
      "source": [
        "fi.get_price()"
      ],
      "execution_count": 109,
      "outputs": [
        {
          "output_type": "execute_result",
          "data": {
            "text/plain": [
              "105"
            ]
          },
          "metadata": {
            "tags": []
          },
          "execution_count": 109
        }
      ]
    },
    {
      "cell_type": "code",
      "metadata": {
        "id": "KOT-BIyqYZYK",
        "colab_type": "code",
        "colab": {
          "base_uri": "https://localhost:8080/",
          "height": 34
        },
        "outputId": "00639ec1-3056-47ec-ac0e-cfda81efbc42"
      },
      "source": [
        "fi.price"
      ],
      "execution_count": 110,
      "outputs": [
        {
          "output_type": "execute_result",
          "data": {
            "text/plain": [
              "105"
            ]
          },
          "metadata": {
            "tags": []
          },
          "execution_count": 110
        }
      ]
    },
    {
      "cell_type": "markdown",
      "metadata": {
        "id": "-ffSEOYQYjtA",
        "colab_type": "text"
      },
      "source": [
        "Encapsulation generally has the goal of hiding data from the user working\n",
        "with a class. Adding ***getter and setter methods*** is one part of achieving this\n",
        "goal. However, this does not prevent the user from directly accessing and\n",
        "manipulating instance attributes. This is where ***private instance attributes***\n",
        "come into play. They are defined by two leading underscores:"
      ]
    },
    {
      "cell_type": "code",
      "metadata": {
        "id": "6UjnaYZvYa8F",
        "colab_type": "code",
        "colab": {}
      },
      "source": [
        "class FinancialInstrument(object):\n",
        "    def __init__(self, symbol, price):\n",
        "        self.symbol = symbol\n",
        "        #Price is defined as a private instance attribute.\n",
        "        self.__price = price\n",
        "    def get_price(self):\n",
        "        return self.__price\n",
        "    def set_price(self, price):\n",
        "        self.__price = price"
      ],
      "execution_count": 111,
      "outputs": []
    },
    {
      "cell_type": "code",
      "metadata": {
        "id": "FMxDs0lNY5Nr",
        "colab_type": "code",
        "colab": {}
      },
      "source": [
        "fi = FinancialInstrument('AAPL', 100)"
      ],
      "execution_count": 112,
      "outputs": []
    },
    {
      "cell_type": "code",
      "metadata": {
        "id": "VHEas2EjZSaR",
        "colab_type": "code",
        "colab": {
          "base_uri": "https://localhost:8080/",
          "height": 34
        },
        "outputId": "525259ad-6a9d-4576-a7da-df8f963fd47d"
      },
      "source": [
        "fi.get_price()"
      ],
      "execution_count": 113,
      "outputs": [
        {
          "output_type": "execute_result",
          "data": {
            "text/plain": [
              "100"
            ]
          },
          "metadata": {
            "tags": []
          },
          "execution_count": 113
        }
      ]
    },
    {
      "cell_type": "code",
      "metadata": {
        "id": "0x-NlKcIZTWN",
        "colab_type": "code",
        "colab": {
          "base_uri": "https://localhost:8080/",
          "height": 184
        },
        "outputId": "cc666d21-4d2a-444e-cab1-d394d2008a99"
      },
      "source": [
        "#Trying to access the attribute directly raises an error.\n",
        "fi.__price"
      ],
      "execution_count": 114,
      "outputs": [
        {
          "output_type": "error",
          "ename": "AttributeError",
          "evalue": "ignored",
          "traceback": [
            "\u001b[0;31m---------------------------------------------------------------------------\u001b[0m",
            "\u001b[0;31mAttributeError\u001b[0m                            Traceback (most recent call last)",
            "\u001b[0;32m<ipython-input-114-49c9700c159a>\u001b[0m in \u001b[0;36m<module>\u001b[0;34m()\u001b[0m\n\u001b[1;32m      1\u001b[0m \u001b[0;31m#Trying to access the attribute directly raises an error.\u001b[0m\u001b[0;34m\u001b[0m\u001b[0;34m\u001b[0m\u001b[0;34m\u001b[0m\u001b[0m\n\u001b[0;32m----> 2\u001b[0;31m \u001b[0mfi\u001b[0m\u001b[0;34m.\u001b[0m\u001b[0m__price\u001b[0m\u001b[0;34m\u001b[0m\u001b[0;34m\u001b[0m\u001b[0m\n\u001b[0m",
            "\u001b[0;31mAttributeError\u001b[0m: 'FinancialInstrument' object has no attribute '__price'"
          ]
        }
      ]
    },
    {
      "cell_type": "markdown",
      "metadata": {
        "id": "gbXZMQjTZtVw",
        "colab_type": "text"
      },
      "source": [
        "If the class name is prepended with a single leading underscore, direct access and manipulation are still possible"
      ]
    },
    {
      "cell_type": "code",
      "metadata": {
        "id": "m2-eGDWGZWOm",
        "colab_type": "code",
        "colab": {
          "base_uri": "https://localhost:8080/",
          "height": 34
        },
        "outputId": "86f61d47-241e-4cd1-aad2-8ede2de24477"
      },
      "source": [
        "fi._FinancialInstrument__price"
      ],
      "execution_count": 115,
      "outputs": [
        {
          "output_type": "execute_result",
          "data": {
            "text/plain": [
              "100"
            ]
          },
          "metadata": {
            "tags": []
          },
          "execution_count": 115
        }
      ]
    },
    {
      "cell_type": "code",
      "metadata": {
        "id": "uw3KhMv6ZfQZ",
        "colab_type": "code",
        "colab": {}
      },
      "source": [
        "fi._FinancialInstrument__price = 105"
      ],
      "execution_count": 116,
      "outputs": []
    },
    {
      "cell_type": "code",
      "metadata": {
        "id": "ZwQYSrDAZh6U",
        "colab_type": "code",
        "colab": {
          "base_uri": "https://localhost:8080/",
          "height": 34
        },
        "outputId": "97b1fb37-8169-43ce-c8ee-d3fa070938ab"
      },
      "source": [
        "fi.get_price()"
      ],
      "execution_count": 117,
      "outputs": [
        {
          "output_type": "execute_result",
          "data": {
            "text/plain": [
              "105"
            ]
          },
          "metadata": {
            "tags": []
          },
          "execution_count": 117
        }
      ]
    },
    {
      "cell_type": "markdown",
      "metadata": {
        "id": "YzrQpir-cptW",
        "colab_type": "text"
      },
      "source": [
        "Consider another class that models a portfolio position of a financial\n",
        "instrument. With the two classes ***aggregation*** as a concept is easily\n",
        "illustrated. An instance of the PortfolioPosition class takes an instance of\n",
        "the FinancialInstrument class as an attribute value. Adding an instance\n",
        "attribute, such as position_size , one can then calculate, for instance, the\n",
        "position value:"
      ]
    },
    {
      "cell_type": "code",
      "metadata": {
        "id": "khQBEB85ZmXN",
        "colab_type": "code",
        "colab": {}
      },
      "source": [
        "class PortfolioPosition(object):\n",
        "    def __init__(self, financial_instrument, position_size):\n",
        "        #An instance attribute based on an instance of the FinancialInstrument class\n",
        "        self.position = financial_instrument\n",
        "        #A private instance attribute of the PortfolioPosition class\n",
        "        self.__position_size = position_size\n",
        "    def get_position_size(self):\n",
        "        return self.__position_size\n",
        "    def update_position_size(self, position_size):\n",
        "        self.__position_size = position_size\n",
        "    def get_position_value(self):\n",
        "        #Methods attached to the instance attribute object can be accessed directly (could be hidden as well).\n",
        "        return self.__position_size * \\\n",
        "               self.position.get_price()"
      ],
      "execution_count": 118,
      "outputs": []
    },
    {
      "cell_type": "code",
      "metadata": {
        "id": "gyFKaofifDqK",
        "colab_type": "code",
        "colab": {}
      },
      "source": [
        "pp = PortfolioPosition(fi, 10)"
      ],
      "execution_count": 119,
      "outputs": []
    },
    {
      "cell_type": "code",
      "metadata": {
        "id": "ClZTxSvWhp5-",
        "colab_type": "code",
        "colab": {
          "base_uri": "https://localhost:8080/",
          "height": 34
        },
        "outputId": "a34f589c-c7b4-408f-9ec6-3d02cae22d66"
      },
      "source": [
        "pp.get_position_size()"
      ],
      "execution_count": 120,
      "outputs": [
        {
          "output_type": "execute_result",
          "data": {
            "text/plain": [
              "10"
            ]
          },
          "metadata": {
            "tags": []
          },
          "execution_count": 120
        }
      ]
    },
    {
      "cell_type": "code",
      "metadata": {
        "id": "cQKMzXochugP",
        "colab_type": "code",
        "colab": {
          "base_uri": "https://localhost:8080/",
          "height": 34
        },
        "outputId": "b5927245-40a2-44ce-d5cd-72135bbec606"
      },
      "source": [
        "pp.get_position_value()"
      ],
      "execution_count": 121,
      "outputs": [
        {
          "output_type": "execute_result",
          "data": {
            "text/plain": [
              "1050"
            ]
          },
          "metadata": {
            "tags": []
          },
          "execution_count": 121
        }
      ]
    },
    {
      "cell_type": "code",
      "metadata": {
        "id": "hXuYnPSdhxAQ",
        "colab_type": "code",
        "colab": {
          "base_uri": "https://localhost:8080/",
          "height": 34
        },
        "outputId": "64578dd2-c9c2-4adb-d768-a4a4e7cf5d84"
      },
      "source": [
        "pp.position.get_price()"
      ],
      "execution_count": 122,
      "outputs": [
        {
          "output_type": "execute_result",
          "data": {
            "text/plain": [
              "105"
            ]
          },
          "metadata": {
            "tags": []
          },
          "execution_count": 122
        }
      ]
    },
    {
      "cell_type": "code",
      "metadata": {
        "id": "FKHhGHmkh1-n",
        "colab_type": "code",
        "colab": {}
      },
      "source": [
        "pp.position.set_price(108)"
      ],
      "execution_count": 123,
      "outputs": []
    },
    {
      "cell_type": "code",
      "metadata": {
        "id": "zvznylBeh5mK",
        "colab_type": "code",
        "colab": {
          "base_uri": "https://localhost:8080/",
          "height": 34
        },
        "outputId": "d440f170-7074-45a8-e494-b9cf7da753f6"
      },
      "source": [
        "pp.get_position_value()"
      ],
      "execution_count": 124,
      "outputs": [
        {
          "output_type": "execute_result",
          "data": {
            "text/plain": [
              "1080"
            ]
          },
          "metadata": {
            "tags": []
          },
          "execution_count": 124
        }
      ]
    },
    {
      "cell_type": "markdown",
      "metadata": {
        "id": "xKSoCTxjjuww",
        "colab_type": "text"
      },
      "source": [
        "It implements a class for one-dimensional, three-\n",
        "element vectors (think of vectors in Euclidean space). First, the special\n",
        "method __init__ :"
      ]
    },
    {
      "cell_type": "code",
      "metadata": {
        "id": "0DB-jjCFh8G-",
        "colab_type": "code",
        "colab": {}
      },
      "source": [
        "class Vector(object):\n",
        "    def __init__(self, x = 0, y = 0, z = 0):\n",
        "        self.x = x\n",
        "        self.y = y\n",
        "        self.z = z"
      ],
      "execution_count": 125,
      "outputs": []
    },
    {
      "cell_type": "code",
      "metadata": {
        "id": "1VSDXedMkBd8",
        "colab_type": "code",
        "colab": {}
      },
      "source": [
        "#A new instance of the class named v .\n",
        "v = Vector(1,2,3)"
      ],
      "execution_count": 126,
      "outputs": []
    },
    {
      "cell_type": "code",
      "metadata": {
        "id": "WyEfRVEskEQI",
        "colab_type": "code",
        "colab": {
          "base_uri": "https://localhost:8080/",
          "height": 34
        },
        "outputId": "aab9da31-3f3f-4dda-84d8-d9a65cbae2ab"
      },
      "source": [
        "#The default string representation.\n",
        "print(v)"
      ],
      "execution_count": 127,
      "outputs": [
        {
          "output_type": "stream",
          "text": [
            "<__main__.Vector object at 0x7f7d5c851e10>\n"
          ],
          "name": "stdout"
        }
      ]
    },
    {
      "cell_type": "markdown",
      "metadata": {
        "id": "ILcI8ZoNkkzz",
        "colab_type": "text"
      },
      "source": [
        "The special method *** __repr__ *** allows the definition of custom string representations:"
      ]
    },
    {
      "cell_type": "code",
      "metadata": {
        "id": "J6hPdEYVkFMS",
        "colab_type": "code",
        "colab": {}
      },
      "source": [
        "class Vector(Vector):\n",
        "    def __repr__(self):\n",
        "        return 'Vector(%r, %r, %r)' % (self.x, self.y, self.z)"
      ],
      "execution_count": 128,
      "outputs": []
    },
    {
      "cell_type": "code",
      "metadata": {
        "id": "gOAVgc-lkerW",
        "colab_type": "code",
        "colab": {}
      },
      "source": [
        "v = Vector(1,2,3)"
      ],
      "execution_count": 129,
      "outputs": []
    },
    {
      "cell_type": "code",
      "metadata": {
        "id": "l1Fc2GtokgXT",
        "colab_type": "code",
        "colab": {
          "base_uri": "https://localhost:8080/",
          "height": 34
        },
        "outputId": "4d65ec1d-a79c-4dd5-8766-46929b072dad"
      },
      "source": [
        "v"
      ],
      "execution_count": 130,
      "outputs": [
        {
          "output_type": "execute_result",
          "data": {
            "text/plain": [
              "Vector(1, 2, 3)"
            ]
          },
          "metadata": {
            "tags": []
          },
          "execution_count": 130
        }
      ]
    },
    {
      "cell_type": "code",
      "metadata": {
        "id": "dfhJmCiukhi9",
        "colab_type": "code",
        "colab": {
          "base_uri": "https://localhost:8080/",
          "height": 34
        },
        "outputId": "9aef10e4-269a-47ff-e115-441a23c9f1fe"
      },
      "source": [
        "print (v)"
      ],
      "execution_count": 131,
      "outputs": [
        {
          "output_type": "stream",
          "text": [
            "Vector(1, 2, 3)\n"
          ],
          "name": "stdout"
        }
      ]
    },
    {
      "cell_type": "markdown",
      "metadata": {
        "id": "G4YSGURNlHBq",
        "colab_type": "text"
      },
      "source": [
        "abs() and bool() are two standard Python functions whose behavior on the\n",
        "Vector class can be defined via the special methods __abs__ and __bool__ :"
      ]
    },
    {
      "cell_type": "code",
      "metadata": {
        "id": "FVZW8KHDkv4r",
        "colab_type": "code",
        "colab": {}
      },
      "source": [
        "class Vector(Vector):\n",
        "    def __abs__(self):\n",
        "        return (self.x ** 2 + self.y ** 2 + self.z ** 2) ** 0.5\n",
        "    def __bool__(self):\n",
        "        return bool(abs(self))"
      ],
      "execution_count": 132,
      "outputs": []
    },
    {
      "cell_type": "code",
      "metadata": {
        "id": "nnR-7Hv8li_3",
        "colab_type": "code",
        "colab": {}
      },
      "source": [
        "v = Vector(1,2,-1)"
      ],
      "execution_count": 133,
      "outputs": []
    },
    {
      "cell_type": "code",
      "metadata": {
        "id": "P5lv-zTTlm7L",
        "colab_type": "code",
        "colab": {
          "base_uri": "https://localhost:8080/",
          "height": 34
        },
        "outputId": "e1f114d3-5a97-4836-8f34-74fc33d6ca64"
      },
      "source": [
        "abs(v)"
      ],
      "execution_count": 134,
      "outputs": [
        {
          "output_type": "execute_result",
          "data": {
            "text/plain": [
              "2.449489742783178"
            ]
          },
          "metadata": {
            "tags": []
          },
          "execution_count": 134
        }
      ]
    },
    {
      "cell_type": "code",
      "metadata": {
        "id": "_bpZD_A9lnvL",
        "colab_type": "code",
        "colab": {
          "base_uri": "https://localhost:8080/",
          "height": 34
        },
        "outputId": "71949ded-3bc0-4deb-fb61-b59d3501f3e5"
      },
      "source": [
        "bool(v)"
      ],
      "execution_count": 135,
      "outputs": [
        {
          "output_type": "execute_result",
          "data": {
            "text/plain": [
              "True"
            ]
          },
          "metadata": {
            "tags": []
          },
          "execution_count": 135
        }
      ]
    },
    {
      "cell_type": "code",
      "metadata": {
        "id": "FVGCWU7-loxI",
        "colab_type": "code",
        "colab": {}
      },
      "source": [
        "v = Vector()"
      ],
      "execution_count": 136,
      "outputs": []
    },
    {
      "cell_type": "code",
      "metadata": {
        "id": "L1qeXbS5lrka",
        "colab_type": "code",
        "colab": {
          "base_uri": "https://localhost:8080/",
          "height": 34
        },
        "outputId": "6d6e67a5-8004-434b-847b-63e98408cdcd"
      },
      "source": [
        "v"
      ],
      "execution_count": 137,
      "outputs": [
        {
          "output_type": "execute_result",
          "data": {
            "text/plain": [
              "Vector(0, 0, 0)"
            ]
          },
          "metadata": {
            "tags": []
          },
          "execution_count": 137
        }
      ]
    },
    {
      "cell_type": "code",
      "metadata": {
        "id": "ExeS_YSGluUt",
        "colab_type": "code",
        "colab": {
          "base_uri": "https://localhost:8080/",
          "height": 34
        },
        "outputId": "a96bd9b7-ace5-49c8-ec8d-71be832a248f"
      },
      "source": [
        "abs(v)"
      ],
      "execution_count": 138,
      "outputs": [
        {
          "output_type": "execute_result",
          "data": {
            "text/plain": [
              "0.0"
            ]
          },
          "metadata": {
            "tags": []
          },
          "execution_count": 138
        }
      ]
    },
    {
      "cell_type": "code",
      "metadata": {
        "id": "1EbZOYgDlu4J",
        "colab_type": "code",
        "colab": {
          "base_uri": "https://localhost:8080/",
          "height": 34
        },
        "outputId": "8024b646-8076-4b73-f80e-425f01f7d11e"
      },
      "source": [
        "bool(v)"
      ],
      "execution_count": 139,
      "outputs": [
        {
          "output_type": "execute_result",
          "data": {
            "text/plain": [
              "False"
            ]
          },
          "metadata": {
            "tags": []
          },
          "execution_count": 139
        }
      ]
    },
    {
      "cell_type": "markdown",
      "metadata": {
        "id": "_hrlyYHKmVVJ",
        "colab_type": "text"
      },
      "source": [
        "As shown multiple times, the + and * operators can be applied to almost any\n",
        "Python object. The behavior is defined through the special methods\n",
        "__add__ and __mul__ :"
      ]
    },
    {
      "cell_type": "code",
      "metadata": {
        "id": "Pa7s7uOUlvtF",
        "colab_type": "code",
        "colab": {}
      },
      "source": [
        "class Vector(Vector):\n",
        "    def __add__(self, other):\n",
        "        x = self.x + other.x\n",
        "        y = self.y + other.y\n",
        "        z = self.z + other.z\n",
        "        return Vector(x,y,z)\n",
        "    def __mul__(self, scalar):\n",
        "        return Vector(self.x * scalar, self.y * scalar, self.z * scalar)"
      ],
      "execution_count": 140,
      "outputs": []
    },
    {
      "cell_type": "code",
      "metadata": {
        "id": "KUrgljRhmwpv",
        "colab_type": "code",
        "colab": {}
      },
      "source": [
        "v = Vector(1,2,3)"
      ],
      "execution_count": 141,
      "outputs": []
    },
    {
      "cell_type": "code",
      "metadata": {
        "id": "-x_j2QsYm1ko",
        "colab_type": "code",
        "colab": {
          "base_uri": "https://localhost:8080/",
          "height": 34
        },
        "outputId": "e13df175-39cb-4b2a-9ff7-68e8ee5919ea"
      },
      "source": [
        "v + Vector(2,3,4)"
      ],
      "execution_count": 143,
      "outputs": [
        {
          "output_type": "execute_result",
          "data": {
            "text/plain": [
              "Vector(3, 5, 7)"
            ]
          },
          "metadata": {
            "tags": []
          },
          "execution_count": 143
        }
      ]
    },
    {
      "cell_type": "code",
      "metadata": {
        "id": "hwyUyVS3m3-5",
        "colab_type": "code",
        "colab": {
          "base_uri": "https://localhost:8080/",
          "height": 34
        },
        "outputId": "ceb1ffdb-3b8e-48f8-a98c-69c86b7bfdfd"
      },
      "source": [
        "v * 2"
      ],
      "execution_count": 144,
      "outputs": [
        {
          "output_type": "execute_result",
          "data": {
            "text/plain": [
              "Vector(2, 4, 6)"
            ]
          },
          "metadata": {
            "tags": []
          },
          "execution_count": 144
        }
      ]
    },
    {
      "cell_type": "markdown",
      "metadata": {
        "id": "qOHbxUBOnBPt",
        "colab_type": "text"
      },
      "source": [
        "Another standard Python function is ***len()*** , which gives the length of an\n",
        "object in number of elements. This function accesses the special method __len__ when called on an object. On the other hand, the special method\n",
        "__getitem__ makes indexing via the square bracket notation possible:"
      ]
    },
    {
      "cell_type": "code",
      "metadata": {
        "id": "mq_HG3hfm6Wq",
        "colab_type": "code",
        "colab": {}
      },
      "source": [
        "class Vector(Vector):\n",
        "    def __len__(self):\n",
        "        return 3\n",
        "\n",
        "    def __getitem__(self, i):\n",
        "        if i in [0, -3] : return self.x\n",
        "        elif i in [1, -2] : return self.y\n",
        "        elif i in [2, -1] : return self.z\n",
        "        else : raise IndexError(\"Index out of range\")"
      ],
      "execution_count": 145,
      "outputs": []
    },
    {
      "cell_type": "code",
      "metadata": {
        "id": "M2YgHHRFnq-i",
        "colab_type": "code",
        "colab": {}
      },
      "source": [
        "v = Vector(1,2,3)"
      ],
      "execution_count": 146,
      "outputs": []
    },
    {
      "cell_type": "code",
      "metadata": {
        "id": "mjwi5M_VnsbX",
        "colab_type": "code",
        "colab": {
          "base_uri": "https://localhost:8080/",
          "height": 34
        },
        "outputId": "abb1dd5e-7086-49a8-b200-53cdb785e16f"
      },
      "source": [
        "len(v)"
      ],
      "execution_count": 147,
      "outputs": [
        {
          "output_type": "execute_result",
          "data": {
            "text/plain": [
              "3"
            ]
          },
          "metadata": {
            "tags": []
          },
          "execution_count": 147
        }
      ]
    },
    {
      "cell_type": "code",
      "metadata": {
        "id": "D01uXflmntSZ",
        "colab_type": "code",
        "colab": {
          "base_uri": "https://localhost:8080/",
          "height": 34
        },
        "outputId": "5dfbf4b2-8946-4adc-bb7d-b19e4477cfd1"
      },
      "source": [
        "v[0]"
      ],
      "execution_count": 148,
      "outputs": [
        {
          "output_type": "execute_result",
          "data": {
            "text/plain": [
              "1"
            ]
          },
          "metadata": {
            "tags": []
          },
          "execution_count": 148
        }
      ]
    },
    {
      "cell_type": "code",
      "metadata": {
        "id": "iXb2KJsUnu6D",
        "colab_type": "code",
        "colab": {
          "base_uri": "https://localhost:8080/",
          "height": 34
        },
        "outputId": "55398b9c-6142-43e9-a944-20e11b2ab9b1"
      },
      "source": [
        "v[-2]"
      ],
      "execution_count": 149,
      "outputs": [
        {
          "output_type": "execute_result",
          "data": {
            "text/plain": [
              "2"
            ]
          },
          "metadata": {
            "tags": []
          },
          "execution_count": 149
        }
      ]
    },
    {
      "cell_type": "code",
      "metadata": {
        "id": "W8eI3M92nwdD",
        "colab_type": "code",
        "colab": {
          "base_uri": "https://localhost:8080/",
          "height": 253
        },
        "outputId": "d79e8124-d017-4f00-dc4a-8c8b6e3795a0"
      },
      "source": [
        "v[3]"
      ],
      "execution_count": 150,
      "outputs": [
        {
          "output_type": "error",
          "ename": "IndexError",
          "evalue": "ignored",
          "traceback": [
            "\u001b[0;31m---------------------------------------------------------------------------\u001b[0m",
            "\u001b[0;31mIndexError\u001b[0m                                Traceback (most recent call last)",
            "\u001b[0;32m<ipython-input-150-f998c57dcc1e>\u001b[0m in \u001b[0;36m<module>\u001b[0;34m()\u001b[0m\n\u001b[0;32m----> 1\u001b[0;31m \u001b[0mv\u001b[0m\u001b[0;34m[\u001b[0m\u001b[0;36m3\u001b[0m\u001b[0;34m]\u001b[0m\u001b[0;34m\u001b[0m\u001b[0;34m\u001b[0m\u001b[0m\n\u001b[0m",
            "\u001b[0;32m<ipython-input-145-869f7c53e574>\u001b[0m in \u001b[0;36m__getitem__\u001b[0;34m(self, i)\u001b[0m\n\u001b[1;32m      7\u001b[0m         \u001b[0;32melif\u001b[0m \u001b[0mi\u001b[0m \u001b[0;32min\u001b[0m \u001b[0;34m[\u001b[0m\u001b[0;36m1\u001b[0m\u001b[0;34m,\u001b[0m \u001b[0;34m-\u001b[0m\u001b[0;36m2\u001b[0m\u001b[0;34m]\u001b[0m \u001b[0;34m:\u001b[0m \u001b[0;32mreturn\u001b[0m \u001b[0mself\u001b[0m\u001b[0;34m.\u001b[0m\u001b[0my\u001b[0m\u001b[0;34m\u001b[0m\u001b[0;34m\u001b[0m\u001b[0m\n\u001b[1;32m      8\u001b[0m         \u001b[0;32melif\u001b[0m \u001b[0mi\u001b[0m \u001b[0;32min\u001b[0m \u001b[0;34m[\u001b[0m\u001b[0;36m2\u001b[0m\u001b[0;34m,\u001b[0m \u001b[0;34m-\u001b[0m\u001b[0;36m1\u001b[0m\u001b[0;34m]\u001b[0m \u001b[0;34m:\u001b[0m \u001b[0;32mreturn\u001b[0m \u001b[0mself\u001b[0m\u001b[0;34m.\u001b[0m\u001b[0mz\u001b[0m\u001b[0;34m\u001b[0m\u001b[0;34m\u001b[0m\u001b[0m\n\u001b[0;32m----> 9\u001b[0;31m         \u001b[0;32melse\u001b[0m \u001b[0;34m:\u001b[0m \u001b[0;32mraise\u001b[0m \u001b[0mIndexError\u001b[0m\u001b[0;34m(\u001b[0m\u001b[0;34m\"Index out of range\"\u001b[0m\u001b[0;34m)\u001b[0m\u001b[0;34m\u001b[0m\u001b[0;34m\u001b[0m\u001b[0m\n\u001b[0m",
            "\u001b[0;31mIndexError\u001b[0m: Index out of range"
          ]
        }
      ]
    },
    {
      "cell_type": "markdown",
      "metadata": {
        "id": "_cumpUpnoAn_",
        "colab_type": "text"
      },
      "source": [
        "Finally, the special method __iter__ defines the behavior during iterations\n",
        "over elements of an object. An object for which this operation is defined is\n",
        "called iterable. For instance, all collections and containers are iterable:"
      ]
    },
    {
      "cell_type": "code",
      "metadata": {
        "id": "PMwBHbednyHS",
        "colab_type": "code",
        "colab": {}
      },
      "source": [
        "    class Vector(Vector):\n",
        "        def __iter__(self):\n",
        "            for i in range(len(self)):\n",
        "                yield self[i]"
      ],
      "execution_count": 151,
      "outputs": []
    },
    {
      "cell_type": "code",
      "metadata": {
        "id": "W10s1AyztrCL",
        "colab_type": "code",
        "colab": {}
      },
      "source": [
        "v = Vector(1,2,3)"
      ],
      "execution_count": 152,
      "outputs": []
    },
    {
      "cell_type": "code",
      "metadata": {
        "id": "YBv8z7m9tsny",
        "colab_type": "code",
        "colab": {
          "base_uri": "https://localhost:8080/",
          "height": 69
        },
        "outputId": "76a165ec-4aa6-4f39-9810-1d4a0c7b0099"
      },
      "source": [
        "#Indirect iteration using index values (via __getitem__ ).\n",
        "for i in range(3):\n",
        "    print (v[i])"
      ],
      "execution_count": 154,
      "outputs": [
        {
          "output_type": "stream",
          "text": [
            "1\n",
            "2\n",
            "3\n"
          ],
          "name": "stdout"
        }
      ]
    },
    {
      "cell_type": "code",
      "metadata": {
        "id": "tsOBrxyRtvWP",
        "colab_type": "code",
        "colab": {
          "base_uri": "https://localhost:8080/",
          "height": 69
        },
        "outputId": "df851785-4920-45cc-9078-a66978a2c704"
      },
      "source": [
        "#Direct iteration over the class instance (using __iter__ ).\n",
        "for coordinate in v:\n",
        "    print (coordinate)"
      ],
      "execution_count": 156,
      "outputs": [
        {
          "output_type": "stream",
          "text": [
            "1\n",
            "2\n",
            "3\n"
          ],
          "name": "stdout"
        }
      ]
    }
  ]
}